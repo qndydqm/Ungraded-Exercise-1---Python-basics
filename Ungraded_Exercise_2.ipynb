{
 "cells": [
  {
   "cell_type": "markdown",
   "metadata": {},
   "source": [
    "1. Ask user to enter a string and check that it is made up only alphabets:"
   ]
  },
  {
   "cell_type": "code",
   "execution_count": 1,
   "metadata": {},
   "outputs": [
    {
     "name": "stdout",
     "output_type": "stream",
     "text": [
      "Invalid username\n"
     ]
    }
   ],
   "source": [
    "str1 = input(\"Enter your username:\")\n",
    "if str1.isalpha():\n",
    "    pritn(\"Your username is valid\")\n",
    "else:\n",
    "    print(\"Invalid username\")"
   ]
  },
  {
   "cell_type": "markdown",
   "metadata": {},
   "source": [
    "2. Now, make sure that the string is made up of both alphabets and numbers:\n",
    "\n",
    "TRY using isalnum() function and then entering only alhpabets in the string and see what happens."
   ]
  },
  {
   "cell_type": "code",
   "execution_count": 6,
   "metadata": {},
   "outputs": [
    {
     "name": "stdout",
     "output_type": "stream",
     "text": [
      "Your username is valid\n"
     ]
    }
   ],
   "source": [
    "input_word = input(\"Enter your username:\")\n",
    "\n",
    "flag = True\n",
    "\n",
    "for x in input_word:\n",
    "    if not(x.isalpha() or x.isdigit()):\n",
    "        flag = False\n",
    "        break\n",
    "\n",
    "if flag:\n",
    "    print(\"Your username is valid\")\n",
    "else:\n",
    "    print(\"Invalid username\")"
   ]
  },
  {
   "cell_type": "markdown",
   "metadata": {},
   "source": [
    "3. Now, make sure that the string is made up of both alphabets and at least one number:\n"
   ]
  },
  {
   "cell_type": "code",
   "execution_count": 14,
   "metadata": {},
   "outputs": [
    {
     "name": "stdout",
     "output_type": "stream",
     "text": [
      "Invalid username\n"
     ]
    }
   ],
   "source": [
    "input_word = input(\"Enter your username:\")\n",
    "\n",
    "flag = True\n",
    "one_num_flag = False\n",
    "\n",
    "for x in input_word:\n",
    "    if x.isdigit():\n",
    "        one_num_flag = True\n",
    "    elif not(x.isalpha()):\n",
    "        flag = False\n",
    "        break\n",
    "\n",
    "if flag and one_num_flag:\n",
    "    print(\"Your username is valid\")\n",
    "else:\n",
    "    print(\"Invalid username\")"
   ]
  },
  {
   "cell_type": "markdown",
   "metadata": {},
   "source": [
    "4. Now, make sure that the string is made up of both alphabets, at least one number, and at least one special character:"
   ]
  },
  {
   "cell_type": "code",
   "execution_count": 16,
   "metadata": {},
   "outputs": [
    {
     "name": "stdout",
     "output_type": "stream",
     "text": [
      "Invalid username\n"
     ]
    }
   ],
   "source": [
    "input_word = input(\"Enter your username:\")\n",
    "\n",
    "two_alpha_flag = 0\n",
    "one_num_flag = False\n",
    "one_special_chr = False\n",
    "\n",
    "for x in input_word:\n",
    "    if x.isdigit():\n",
    "        one_num_flag = True\n",
    "    elif x.isalpha():\n",
    "        two_alpha_flag = two_alpha_flag + 1\n",
    "    else:\n",
    "        one_special_chr = True\n",
    "\n",
    "if one_special_chr and one_num_flag and two_alpha_flag>=2:\n",
    "    print(\"Your username is valid\")\n",
    "else:\n",
    "    print(\"Invalid username\")"
   ]
  },
  {
   "cell_type": "markdown",
   "metadata": {},
   "source": [
    "5. Now, modify the above code so that if the user enters an invalid string, the program should ask the user to enter another string again, and keep asking until a valid string has been entered."
   ]
  },
  {
   "cell_type": "code",
   "execution_count": 12,
   "metadata": {},
   "outputs": [
    {
     "name": "stdout",
     "output_type": "stream",
     "text": [
      "Your username is valid\n"
     ]
    }
   ],
   "source": [
    "input_word = input(\"Enter your username:\")\n",
    "\n",
    "two_alpha_flag = 0\n",
    "one_num_flag = False\n",
    "one_special_chr = False\n",
    "\n",
    "for x in input_word:\n",
    "    if x.isdigit():\n",
    "        one_num_flag = True\n",
    "    elif x.isalpha():\n",
    "        two_alpha_flag = two_alpha_flag + 1\n",
    "    else:\n",
    "        one_special_chr = True\n",
    "\n",
    "while not(one_special_chr) or not(one_num_flag) or two_alpha_flag<2:\n",
    "    two_alpha_flag = 0\n",
    "    one_num_flag = False\n",
    "    one_special_chr = False\n",
    "    input_word = input(\"Invalid username!! Please enter your username again:\")\n",
    "    for x in input_word:\n",
    "        if x.isdigit():\n",
    "            one_num_flag = True\n",
    "        elif x.isalpha():\n",
    "            two_alpha_flag = two_alpha_flag + 1\n",
    "        else:\n",
    "            one_special_chr = True\n",
    "\n",
    "print(\"Your username is valid\")\n"
   ]
  }
 ],
 "metadata": {
  "kernelspec": {
   "display_name": "Python 3",
   "language": "python",
   "name": "python3"
  },
  "language_info": {
   "codemirror_mode": {
    "name": "ipython",
    "version": 3
   },
   "file_extension": ".py",
   "mimetype": "text/x-python",
   "name": "python",
   "nbconvert_exporter": "python",
   "pygments_lexer": "ipython3",
   "version": "3.12.4"
  }
 },
 "nbformat": 4,
 "nbformat_minor": 2
}
